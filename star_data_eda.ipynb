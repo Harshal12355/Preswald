{
 "cells": [
  {
   "cell_type": "code",
   "execution_count": 26,
   "metadata": {},
   "outputs": [],
   "source": [
    "import pandas as pd"
   ]
  },
  {
   "cell_type": "markdown",
   "metadata": {},
   "source": [
    "# Loading Dataset"
   ]
  },
  {
   "cell_type": "code",
   "execution_count": 27,
   "metadata": {},
   "outputs": [],
   "source": [
    "df = pd.read_csv('./data/raw_data/Star_Data.csv')"
   ]
  },
  {
   "cell_type": "code",
   "execution_count": 28,
   "metadata": {},
   "outputs": [
    {
     "data": {
      "text/html": [
       "<div>\n",
       "<style scoped>\n",
       "    .dataframe tbody tr th:only-of-type {\n",
       "        vertical-align: middle;\n",
       "    }\n",
       "\n",
       "    .dataframe tbody tr th {\n",
       "        vertical-align: top;\n",
       "    }\n",
       "\n",
       "    .dataframe thead th {\n",
       "        text-align: right;\n",
       "    }\n",
       "</style>\n",
       "<table border=\"1\" class=\"dataframe\">\n",
       "  <thead>\n",
       "    <tr style=\"text-align: right;\">\n",
       "      <th></th>\n",
       "      <th>Temperature (K)</th>\n",
       "      <th>Luminosity(L/Lo)</th>\n",
       "      <th>Radius(R/Ro)</th>\n",
       "      <th>Absolute magnitude(Mv)</th>\n",
       "      <th>Star type</th>\n",
       "      <th>Star color</th>\n",
       "      <th>Spectral Class</th>\n",
       "    </tr>\n",
       "  </thead>\n",
       "  <tbody>\n",
       "    <tr>\n",
       "      <th>0</th>\n",
       "      <td>3068</td>\n",
       "      <td>0.002400</td>\n",
       "      <td>0.1700</td>\n",
       "      <td>16.12</td>\n",
       "      <td>0</td>\n",
       "      <td>Red</td>\n",
       "      <td>M</td>\n",
       "    </tr>\n",
       "    <tr>\n",
       "      <th>1</th>\n",
       "      <td>3042</td>\n",
       "      <td>0.000500</td>\n",
       "      <td>0.1542</td>\n",
       "      <td>16.60</td>\n",
       "      <td>0</td>\n",
       "      <td>Red</td>\n",
       "      <td>M</td>\n",
       "    </tr>\n",
       "    <tr>\n",
       "      <th>2</th>\n",
       "      <td>2600</td>\n",
       "      <td>0.000300</td>\n",
       "      <td>0.1020</td>\n",
       "      <td>18.70</td>\n",
       "      <td>0</td>\n",
       "      <td>Red</td>\n",
       "      <td>M</td>\n",
       "    </tr>\n",
       "    <tr>\n",
       "      <th>3</th>\n",
       "      <td>2800</td>\n",
       "      <td>0.000200</td>\n",
       "      <td>0.1600</td>\n",
       "      <td>16.65</td>\n",
       "      <td>0</td>\n",
       "      <td>Red</td>\n",
       "      <td>M</td>\n",
       "    </tr>\n",
       "    <tr>\n",
       "      <th>4</th>\n",
       "      <td>1939</td>\n",
       "      <td>0.000138</td>\n",
       "      <td>0.1030</td>\n",
       "      <td>20.06</td>\n",
       "      <td>0</td>\n",
       "      <td>Red</td>\n",
       "      <td>M</td>\n",
       "    </tr>\n",
       "  </tbody>\n",
       "</table>\n",
       "</div>"
      ],
      "text/plain": [
       "   Temperature (K)  Luminosity(L/Lo)  Radius(R/Ro)  Absolute magnitude(Mv)  \\\n",
       "0             3068          0.002400        0.1700                   16.12   \n",
       "1             3042          0.000500        0.1542                   16.60   \n",
       "2             2600          0.000300        0.1020                   18.70   \n",
       "3             2800          0.000200        0.1600                   16.65   \n",
       "4             1939          0.000138        0.1030                   20.06   \n",
       "\n",
       "   Star type Star color Spectral Class  \n",
       "0          0        Red              M  \n",
       "1          0        Red              M  \n",
       "2          0        Red              M  \n",
       "3          0        Red              M  \n",
       "4          0        Red              M  "
      ]
     },
     "execution_count": 28,
     "metadata": {},
     "output_type": "execute_result"
    }
   ],
   "source": [
    "df.head()"
   ]
  },
  {
   "cell_type": "code",
   "execution_count": 29,
   "metadata": {},
   "outputs": [
    {
     "data": {
      "text/plain": [
       "Index(['Temperature (K)', 'Luminosity(L/Lo)', 'Radius(R/Ro)',\n",
       "       'Absolute magnitude(Mv)', 'Star type', 'Star color', 'Spectral Class'],\n",
       "      dtype='object')"
      ]
     },
     "execution_count": 29,
     "metadata": {},
     "output_type": "execute_result"
    }
   ],
   "source": [
    "df.columns"
   ]
  },
  {
   "cell_type": "code",
   "execution_count": 30,
   "metadata": {},
   "outputs": [
    {
     "data": {
      "text/html": [
       "<style type=\"text/css\">\n",
       "#T_87cfe_row0_col1 {\n",
       "  width: 10em;\n",
       "  background: linear-gradient(90deg, #606ff2 9.8%, transparent 9.8%);\n",
       "}\n",
       "#T_87cfe_row0_col2 {\n",
       "  background-color: #f7f0f7;\n",
       "  color: #000000;\n",
       "}\n",
       "#T_87cfe_row0_col5, #T_87cfe_row1_col2 {\n",
       "  background-color: #023858;\n",
       "  color: #f1f1f1;\n",
       "}\n",
       "#T_87cfe_row1_col1 {\n",
       "  width: 10em;\n",
       "  background: linear-gradient(90deg, #606ff2 100.0%, transparent 100.0%);\n",
       "}\n",
       "#T_87cfe_row1_col5, #T_87cfe_row2_col2, #T_87cfe_row2_col5, #T_87cfe_row3_col2, #T_87cfe_row3_col5, #T_87cfe_row4_col2, #T_87cfe_row4_col5 {\n",
       "  background-color: #fff7fb;\n",
       "  color: #000000;\n",
       "}\n",
       "#T_87cfe_row2_col1 {\n",
       "  width: 10em;\n",
       "  background: linear-gradient(90deg, #606ff2 0.2%, transparent 0.2%);\n",
       "}\n",
       "#T_87cfe_row3_col1, #T_87cfe_row4_col1 {\n",
       "  width: 10em;\n",
       "  background: linear-gradient(90deg, #606ff2 0.0%, transparent 0.0%);\n",
       "}\n",
       "</style>\n",
       "<table id=\"T_87cfe\">\n",
       "  <thead>\n",
       "    <tr>\n",
       "      <th class=\"blank level0\" >&nbsp;</th>\n",
       "      <th id=\"T_87cfe_level0_col0\" class=\"col_heading level0 col0\" >count</th>\n",
       "      <th id=\"T_87cfe_level0_col1\" class=\"col_heading level0 col1\" >mean</th>\n",
       "      <th id=\"T_87cfe_level0_col2\" class=\"col_heading level0 col2\" >std</th>\n",
       "      <th id=\"T_87cfe_level0_col3\" class=\"col_heading level0 col3\" >min</th>\n",
       "      <th id=\"T_87cfe_level0_col4\" class=\"col_heading level0 col4\" >25%</th>\n",
       "      <th id=\"T_87cfe_level0_col5\" class=\"col_heading level0 col5\" >50%</th>\n",
       "      <th id=\"T_87cfe_level0_col6\" class=\"col_heading level0 col6\" >75%</th>\n",
       "      <th id=\"T_87cfe_level0_col7\" class=\"col_heading level0 col7\" >max</th>\n",
       "    </tr>\n",
       "  </thead>\n",
       "  <tbody>\n",
       "    <tr>\n",
       "      <th id=\"T_87cfe_level0_row0\" class=\"row_heading level0 row0\" >Temperature (K)</th>\n",
       "      <td id=\"T_87cfe_row0_col0\" class=\"data row0 col0\" >240.000000</td>\n",
       "      <td id=\"T_87cfe_row0_col1\" class=\"data row0 col1\" >10497.462500</td>\n",
       "      <td id=\"T_87cfe_row0_col2\" class=\"data row0 col2\" >9552.425037</td>\n",
       "      <td id=\"T_87cfe_row0_col3\" class=\"data row0 col3\" >1939.000000</td>\n",
       "      <td id=\"T_87cfe_row0_col4\" class=\"data row0 col4\" >3344.250000</td>\n",
       "      <td id=\"T_87cfe_row0_col5\" class=\"data row0 col5\" >5776.000000</td>\n",
       "      <td id=\"T_87cfe_row0_col6\" class=\"data row0 col6\" >15055.500000</td>\n",
       "      <td id=\"T_87cfe_row0_col7\" class=\"data row0 col7\" >40000.000000</td>\n",
       "    </tr>\n",
       "    <tr>\n",
       "      <th id=\"T_87cfe_level0_row1\" class=\"row_heading level0 row1\" >Luminosity(L/Lo)</th>\n",
       "      <td id=\"T_87cfe_row1_col0\" class=\"data row1 col0\" >240.000000</td>\n",
       "      <td id=\"T_87cfe_row1_col1\" class=\"data row1 col1\" >107188.361635</td>\n",
       "      <td id=\"T_87cfe_row1_col2\" class=\"data row1 col2\" >179432.244940</td>\n",
       "      <td id=\"T_87cfe_row1_col3\" class=\"data row1 col3\" >0.000080</td>\n",
       "      <td id=\"T_87cfe_row1_col4\" class=\"data row1 col4\" >0.000865</td>\n",
       "      <td id=\"T_87cfe_row1_col5\" class=\"data row1 col5\" >0.070500</td>\n",
       "      <td id=\"T_87cfe_row1_col6\" class=\"data row1 col6\" >198050.000000</td>\n",
       "      <td id=\"T_87cfe_row1_col7\" class=\"data row1 col7\" >849420.000000</td>\n",
       "    </tr>\n",
       "    <tr>\n",
       "      <th id=\"T_87cfe_level0_row2\" class=\"row_heading level0 row2\" >Radius(R/Ro)</th>\n",
       "      <td id=\"T_87cfe_row2_col0\" class=\"data row2 col0\" >240.000000</td>\n",
       "      <td id=\"T_87cfe_row2_col1\" class=\"data row2 col1\" >237.157781</td>\n",
       "      <td id=\"T_87cfe_row2_col2\" class=\"data row2 col2\" >517.155763</td>\n",
       "      <td id=\"T_87cfe_row2_col3\" class=\"data row2 col3\" >0.008400</td>\n",
       "      <td id=\"T_87cfe_row2_col4\" class=\"data row2 col4\" >0.102750</td>\n",
       "      <td id=\"T_87cfe_row2_col5\" class=\"data row2 col5\" >0.762500</td>\n",
       "      <td id=\"T_87cfe_row2_col6\" class=\"data row2 col6\" >42.750000</td>\n",
       "      <td id=\"T_87cfe_row2_col7\" class=\"data row2 col7\" >1948.500000</td>\n",
       "    </tr>\n",
       "    <tr>\n",
       "      <th id=\"T_87cfe_level0_row3\" class=\"row_heading level0 row3\" >Absolute magnitude(Mv)</th>\n",
       "      <td id=\"T_87cfe_row3_col0\" class=\"data row3 col0\" >240.000000</td>\n",
       "      <td id=\"T_87cfe_row3_col1\" class=\"data row3 col1\" >4.382396</td>\n",
       "      <td id=\"T_87cfe_row3_col2\" class=\"data row3 col2\" >10.532512</td>\n",
       "      <td id=\"T_87cfe_row3_col3\" class=\"data row3 col3\" >-11.920000</td>\n",
       "      <td id=\"T_87cfe_row3_col4\" class=\"data row3 col4\" >-6.232500</td>\n",
       "      <td id=\"T_87cfe_row3_col5\" class=\"data row3 col5\" >8.313000</td>\n",
       "      <td id=\"T_87cfe_row3_col6\" class=\"data row3 col6\" >13.697500</td>\n",
       "      <td id=\"T_87cfe_row3_col7\" class=\"data row3 col7\" >20.060000</td>\n",
       "    </tr>\n",
       "    <tr>\n",
       "      <th id=\"T_87cfe_level0_row4\" class=\"row_heading level0 row4\" >Star type</th>\n",
       "      <td id=\"T_87cfe_row4_col0\" class=\"data row4 col0\" >240.000000</td>\n",
       "      <td id=\"T_87cfe_row4_col1\" class=\"data row4 col1\" >2.500000</td>\n",
       "      <td id=\"T_87cfe_row4_col2\" class=\"data row4 col2\" >1.711394</td>\n",
       "      <td id=\"T_87cfe_row4_col3\" class=\"data row4 col3\" >0.000000</td>\n",
       "      <td id=\"T_87cfe_row4_col4\" class=\"data row4 col4\" >1.000000</td>\n",
       "      <td id=\"T_87cfe_row4_col5\" class=\"data row4 col5\" >2.500000</td>\n",
       "      <td id=\"T_87cfe_row4_col6\" class=\"data row4 col6\" >4.000000</td>\n",
       "      <td id=\"T_87cfe_row4_col7\" class=\"data row4 col7\" >5.000000</td>\n",
       "    </tr>\n",
       "  </tbody>\n",
       "</table>\n"
      ],
      "text/plain": [
       "<pandas.io.formats.style.Styler at 0x253b2f64d90>"
      ]
     },
     "execution_count": 30,
     "metadata": {},
     "output_type": "execute_result"
    }
   ],
   "source": [
    "df.describe().T.style.bar(\n",
    "    subset=['mean'],\n",
    "    color='#606ff2').background_gradient(\n",
    "    subset=['std'], cmap='PuBu').background_gradient(subset=['50%'], cmap='PuBu')\n",
    "\n"
   ]
  },
  {
   "cell_type": "code",
   "execution_count": 31,
   "metadata": {},
   "outputs": [
    {
     "name": "stdout",
     "output_type": "stream",
     "text": [
      "<class 'pandas.core.frame.DataFrame'>\n",
      "RangeIndex: 240 entries, 0 to 239\n",
      "Data columns (total 7 columns):\n",
      " #   Column                  Non-Null Count  Dtype  \n",
      "---  ------                  --------------  -----  \n",
      " 0   Temperature (K)         240 non-null    int64  \n",
      " 1   Luminosity(L/Lo)        240 non-null    float64\n",
      " 2   Radius(R/Ro)            240 non-null    float64\n",
      " 3   Absolute magnitude(Mv)  240 non-null    float64\n",
      " 4   Star type               240 non-null    int64  \n",
      " 5   Star color              240 non-null    object \n",
      " 6   Spectral Class          240 non-null    object \n",
      "dtypes: float64(3), int64(2), object(2)\n",
      "memory usage: 13.2+ KB\n"
     ]
    }
   ],
   "source": [
    "df.info()"
   ]
  },
  {
   "cell_type": "code",
   "execution_count": 32,
   "metadata": {},
   "outputs": [
    {
     "data": {
      "text/plain": [
       "(240, 7)"
      ]
     },
     "execution_count": 32,
     "metadata": {},
     "output_type": "execute_result"
    }
   ],
   "source": [
    "df.shape"
   ]
  },
  {
   "cell_type": "code",
   "execution_count": 33,
   "metadata": {},
   "outputs": [
    {
     "data": {
      "text/plain": [
       "Temperature (K)           0\n",
       "Luminosity(L/Lo)          0\n",
       "Radius(R/Ro)              0\n",
       "Absolute magnitude(Mv)    0\n",
       "Star type                 0\n",
       "Star color                0\n",
       "Spectral Class            0\n",
       "dtype: int64"
      ]
     },
     "execution_count": 33,
     "metadata": {},
     "output_type": "execute_result"
    }
   ],
   "source": [
    "df.isnull().sum()"
   ]
  },
  {
   "cell_type": "markdown",
   "metadata": {},
   "source": [
    "As we can see above through some rudimentary exploring, there are no null values in the dataset and the dataset looks good. "
   ]
  },
  {
   "cell_type": "code",
   "execution_count": 34,
   "metadata": {},
   "outputs": [
    {
     "data": {
      "text/plain": [
       "pandas.core.indexes.base.Index"
      ]
     },
     "execution_count": 34,
     "metadata": {},
     "output_type": "execute_result"
    }
   ],
   "source": [
    "cols = df.columns\n",
    "type(cols)"
   ]
  },
  {
   "cell_type": "code",
   "execution_count": 35,
   "metadata": {},
   "outputs": [
    {
     "data": {
      "text/plain": [
       "['Temperature (K)',\n",
       " 'Luminosity(L/Lo)',\n",
       " 'Radius(R/Ro)',\n",
       " 'Absolute magnitude(Mv)',\n",
       " 'Star type',\n",
       " 'Star color',\n",
       " 'Spectral Class']"
      ]
     },
     "execution_count": 35,
     "metadata": {},
     "output_type": "execute_result"
    }
   ],
   "source": [
    "list(cols)"
   ]
  },
  {
   "cell_type": "code",
   "execution_count": 36,
   "metadata": {},
   "outputs": [
    {
     "ename": "RuntimeError",
     "evalue": "ServerPreswaldService not initialized. Did you call start_server()?",
     "output_type": "error",
     "traceback": [
      "\u001b[31m---------------------------------------------------------------------------\u001b[39m",
      "\u001b[31mRuntimeError\u001b[39m                              Traceback (most recent call last)",
      "\u001b[36mCell\u001b[39m\u001b[36m \u001b[39m\u001b[32mIn[36]\u001b[39m\u001b[32m, line 3\u001b[39m\n\u001b[32m      1\u001b[39m \u001b[38;5;28;01mfrom\u001b[39;00m\u001b[38;5;250m \u001b[39m\u001b[34;01msrc\u001b[39;00m\u001b[34;01m.\u001b[39;00m\u001b[34;01mhr_diagram\u001b[39;00m\u001b[38;5;250m \u001b[39m\u001b[38;5;28;01mimport\u001b[39;00m create_hr_diagram\n\u001b[32m----> \u001b[39m\u001b[32m3\u001b[39m \u001b[43mcreate_hr_diagram\u001b[49m\u001b[43m(\u001b[49m\u001b[43mdf\u001b[49m\u001b[43m)\u001b[49m\n",
      "\u001b[36mFile \u001b[39m\u001b[32mc:\\Users\\harsh\\Desktop\\Preswald\\src\\hr_diagram.py:7\u001b[39m, in \u001b[36mcreate_hr_diagram\u001b[39m\u001b[34m(df)\u001b[39m\n\u001b[32m      4\u001b[39m \u001b[38;5;28;01mdef\u001b[39;00m\u001b[38;5;250m \u001b[39m\u001b[34mcreate_hr_diagram\u001b[39m(df):\n\u001b[32m      5\u001b[39m     \n\u001b[32m      6\u001b[39m     \u001b[38;5;66;03m# Create the Hertzsprung-Russell diagram\u001b[39;00m\n\u001b[32m----> \u001b[39m\u001b[32m7\u001b[39m     \u001b[43mtext\u001b[49m\u001b[43m(\u001b[49m\u001b[33;43m\"\u001b[39;49m\u001b[33;43m### Hertzsprung-Russell Diagram\u001b[39;49m\u001b[33;43m\"\u001b[39;49m\u001b[43m)\u001b[49m\n\u001b[32m      8\u001b[39m     text(\u001b[33m\"\u001b[39m\u001b[33mThe Hertzsprung-Russell diagram is a scatter plot of stars showing the relationship between\u001b[39m\u001b[33m\"\u001b[39m \\\n\u001b[32m      9\u001b[39m     \u001b[33m\"\u001b[39m\u001b[38;5;130;01m\\n\u001b[39;00m\u001b[33m a star\u001b[39m\u001b[33m'\u001b[39m\u001b[33ms temperature and its luminosity. This visualization helps astronomers classify stars\u001b[39m\u001b[33m\"\u001b[39m \\\n\u001b[32m     10\u001b[39m     \u001b[33m\"\u001b[39m\u001b[38;5;130;01m\\n\u001b[39;00m\u001b[33m into different categories based on their position in the diagram.\u001b[39m\u001b[33m\"\u001b[39m\n\u001b[32m     11\u001b[39m     \u001b[33m\"\u001b[39m\u001b[38;5;130;01m\\n\u001b[39;00m\u001b[38;5;130;01m\\n\u001b[39;00m\u001b[33m\"\u001b[39m \\\n\u001b[32m     12\u001b[39m     \u001b[33m\"\u001b[39m\u001b[38;5;130;01m\\n\u001b[39;00m\u001b[33m Note: In traditional H-R diagrams, temperature increases from right to left to match astronomical conventions.\u001b[39m\u001b[33m\"\u001b[39m)\n\u001b[32m     14\u001b[39m     \u001b[38;5;66;03m# Create the figure with temperature on x-axis and luminosity on y-axis\u001b[39;00m\n",
      "\u001b[36mFile \u001b[39m\u001b[32mc:\\Users\\harsh\\Desktop\\Preswald\\venv\\Lib\\site-packages\\preswald\\interfaces\\components.py:992\u001b[39m, in \u001b[36mtext\u001b[39m\u001b[34m(markdown_str, size)\u001b[39m\n\u001b[32m    990\u001b[39m \u001b[38;5;28;01mdef\u001b[39;00m\u001b[38;5;250m \u001b[39m\u001b[34mtext\u001b[39m(markdown_str: \u001b[38;5;28mstr\u001b[39m, size: \u001b[38;5;28mfloat\u001b[39m = \u001b[32m1.0\u001b[39m) -> \u001b[38;5;28mstr\u001b[39m:\n\u001b[32m    991\u001b[39m \u001b[38;5;250m    \u001b[39m\u001b[33;03m\"\"\"Create a text/markdown component.\"\"\"\u001b[39;00m\n\u001b[32m--> \u001b[39m\u001b[32m992\u001b[39m     service = \u001b[43mPreswaldService\u001b[49m\u001b[43m.\u001b[49m\u001b[43mget_instance\u001b[49m\u001b[43m(\u001b[49m\u001b[43m)\u001b[49m\n\u001b[32m    993\u001b[39m     component_id = generate_stable_id(\u001b[33m\"\u001b[39m\u001b[33mtext\u001b[39m\u001b[33m\"\u001b[39m)\n\u001b[32m    994\u001b[39m     component = {\n\u001b[32m    995\u001b[39m         \u001b[33m\"\u001b[39m\u001b[33mtype\u001b[39m\u001b[33m\"\u001b[39m: \u001b[33m\"\u001b[39m\u001b[33mtext\u001b[39m\u001b[33m\"\u001b[39m,\n\u001b[32m    996\u001b[39m         \u001b[33m\"\u001b[39m\u001b[33mid\u001b[39m\u001b[33m\"\u001b[39m: component_id,\n\u001b[32m   (...)\u001b[39m\u001b[32m    999\u001b[39m         \u001b[33m\"\u001b[39m\u001b[33msize\u001b[39m\u001b[33m\"\u001b[39m: size,\n\u001b[32m   1000\u001b[39m     }\n",
      "\u001b[36mFile \u001b[39m\u001b[32mc:\\Users\\harsh\\Desktop\\Preswald\\venv\\Lib\\site-packages\\preswald\\engine\\service.py:42\u001b[39m, in \u001b[36mPreswaldService.get_instance\u001b[39m\u001b[34m(cls)\u001b[39m\n\u001b[32m     39\u001b[39m \u001b[38;5;129m@classmethod\u001b[39m\n\u001b[32m     40\u001b[39m \u001b[38;5;28;01mdef\u001b[39;00m\u001b[38;5;250m \u001b[39m\u001b[34mget_instance\u001b[39m(\u001b[38;5;28mcls\u001b[39m):\n\u001b[32m     41\u001b[39m \u001b[38;5;250m    \u001b[39m\u001b[33;03m\"\"\"Get the service instance\"\"\"\u001b[39;00m\n\u001b[32m---> \u001b[39m\u001b[32m42\u001b[39m     \u001b[38;5;28;01mreturn\u001b[39;00m \u001b[43mServiceImpl\u001b[49m\u001b[43m.\u001b[49m\u001b[43mget_instance\u001b[49m\u001b[43m(\u001b[49m\u001b[43m)\u001b[49m\n",
      "\u001b[36mFile \u001b[39m\u001b[32mc:\\Users\\harsh\\Desktop\\Preswald\\venv\\Lib\\site-packages\\preswald\\engine\\base_service.py:52\u001b[39m, in \u001b[36mBasePreswaldService.get_instance\u001b[39m\u001b[34m(cls)\u001b[39m\n\u001b[32m     49\u001b[39m \u001b[38;5;129m@classmethod\u001b[39m\n\u001b[32m     50\u001b[39m \u001b[38;5;28;01mdef\u001b[39;00m\u001b[38;5;250m \u001b[39m\u001b[34mget_instance\u001b[39m(\u001b[38;5;28mcls\u001b[39m):\n\u001b[32m     51\u001b[39m     \u001b[38;5;28;01mif\u001b[39;00m \u001b[38;5;28mcls\u001b[39m._instance \u001b[38;5;129;01mis\u001b[39;00m \u001b[38;5;28;01mNone\u001b[39;00m:\n\u001b[32m---> \u001b[39m\u001b[32m52\u001b[39m         \u001b[38;5;28;01mraise\u001b[39;00m \u001b[38;5;167;01mRuntimeError\u001b[39;00m(\u001b[38;5;28mcls\u001b[39m._not_initialized_msg)\n\u001b[32m     53\u001b[39m     \u001b[38;5;28;01mreturn\u001b[39;00m \u001b[38;5;28mcls\u001b[39m._instance\n",
      "\u001b[31mRuntimeError\u001b[39m: ServerPreswaldService not initialized. Did you call start_server()?"
     ]
    }
   ],
   "source": [
    "from src.hr_diagram import create_hr_diagram\n",
    "\n",
    "create_hr_diagram(df)"
   ]
  },
  {
   "cell_type": "code",
   "execution_count": null,
   "metadata": {},
   "outputs": [],
   "source": []
  }
 ],
 "metadata": {
  "kernelspec": {
   "display_name": "venv",
   "language": "python",
   "name": "python3"
  },
  "language_info": {
   "codemirror_mode": {
    "name": "ipython",
    "version": 3
   },
   "file_extension": ".py",
   "mimetype": "text/x-python",
   "name": "python",
   "nbconvert_exporter": "python",
   "pygments_lexer": "ipython3",
   "version": "3.11.0"
  }
 },
 "nbformat": 4,
 "nbformat_minor": 2
}
